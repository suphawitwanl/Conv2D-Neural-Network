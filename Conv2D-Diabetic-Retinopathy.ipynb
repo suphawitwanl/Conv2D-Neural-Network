{
  "nbformat": 4,
  "nbformat_minor": 0,
  "metadata": {
    "colab": {
      "provenance": [],
      "gpuType": "T4"
    },
    "kernelspec": {
      "name": "python3",
      "display_name": "Python 3"
    },
    "language_info": {
      "name": "python"
    },
    "accelerator": "GPU"
  },
  "cells": [
    {
      "cell_type": "code",
      "source": [
        "import gdown\n",
        "\n",
        "# Replace 'your_google_drive_link' with the actual link of the file you want to download\n",
        "#300*300    1Wl-6RT-k-XaLaznkKeHYhqGPOdPhSZTW\n",
        "#600*600    1WsmMYCz5poZYgdhEpwlW3n1KLyYjbShw\n",
        "#300*300 color    1WzaZ88vYQ50Io9-2GTVXOzFMRD5zOmGj\n",
        "google_drive_link = f'https://drive.google.com/uc?id=1WzaZ88vYQ50Io9-2GTVXOzFMRD5zOmGj'\n",
        "\n",
        "# Specify the output file name\n",
        "output_file = 'images_dataset.zip'\n",
        "\n",
        "# Download the file\n",
        "gdown.download(google_drive_link, output_file, quiet=False)"
      ],
      "metadata": {
        "colab": {
          "base_uri": "https://localhost:8080/",
          "height": 122
        },
        "id": "VeNJ3dYtSNqY",
        "outputId": "7bb7bf0e-c1fe-43c1-924c-208cc0524a93"
      },
      "execution_count": null,
      "outputs": [
        {
          "output_type": "stream",
          "name": "stderr",
          "text": [
            "Downloading...\n",
            "From (original): https://drive.google.com/uc?id=1WzaZ88vYQ50Io9-2GTVXOzFMRD5zOmGj\n",
            "From (redirected): https://drive.google.com/uc?id=1WzaZ88vYQ50Io9-2GTVXOzFMRD5zOmGj&confirm=t&uuid=753b9888-57d2-4843-a771-0b039ba2aeca\n",
            "To: /content/images_dataset.zip\n",
            "100%|██████████| 97.7M/97.7M [00:02<00:00, 35.5MB/s]\n"
          ]
        },
        {
          "output_type": "execute_result",
          "data": {
            "text/plain": [
              "'images_dataset.zip'"
            ],
            "application/vnd.google.colaboratory.intrinsic+json": {
              "type": "string"
            }
          },
          "metadata": {},
          "execution_count": 1
        }
      ]
    },
    {
      "cell_type": "code",
      "source": [
        "#Unzip file\n",
        "import zipfile\n",
        "\n",
        "def unzip_file(zip_path, extract_path):\n",
        "    with zipfile.ZipFile(zip_path, 'r') as zip_ref:\n",
        "        zip_ref.extractall(extract_path)\n",
        "\n",
        "zip_file_path = '/content/images_dataset.zip'\n",
        "extracted_folder_path = '/content/extracted_images'\n",
        "\n",
        "unzip_file(zip_file_path, extracted_folder_path)"
      ],
      "metadata": {
        "id": "u61qhRS736Wj"
      },
      "execution_count": null,
      "outputs": []
    },
    {
      "cell_type": "code",
      "execution_count": null,
      "metadata": {
        "id": "BZOZl7k8Nkro"
      },
      "outputs": [],
      "source": [
        "import tensorflow as tf\n",
        "from tensorflow.keras.models import Sequential\n",
        "from tensorflow.keras.layers import Dense, Activation, Flatten, Dropout\n",
        "from tensorflow.keras.layers import Conv2D, MaxPooling2D\n",
        "from tensorflow.keras.datasets import cifar10 # subroutines for fetching the CIFAR-10 dataset\n",
        "from tensorflow.keras.models import Model # basic class for specifying and training a neural network\n",
        "from tensorflow import keras\n",
        "import numpy as np\n",
        "import pandas as pd\n",
        "import matplotlib.pyplot as plt\n",
        "import cv2 #pip3 install opencv-python\n",
        "import urllib\n",
        "import urllib\n",
        "import seaborn as sns\n",
        "from sklearn.metrics import confusion_matrix,classification_report\n",
        "from google.colab.patches import cv2_imshow"
      ]
    },
    {
      "cell_type": "code",
      "source": [
        "data = pd.read_csv(\"/content/extracted_images/Train.csv\")\n",
        "#print(data)\n",
        "\n",
        "#filter Only class 0  4\n",
        "data = data[(data['diagnosis'] == 0) | (data['diagnosis'] == 4)]\n",
        "\n",
        "#change class 4 to number 1\n",
        "data.loc[data['diagnosis'] == 4, 'diagnosis'] = 1\n",
        "#print(data)\n",
        "\n",
        "# Randomly select 'diagnosis'\n",
        "n = 300\n",
        "random_seed = 42\n",
        "diagnosis_1_rows = data[data['diagnosis'] == 1].sample(n=n, random_state=random_seed)\n",
        "diagnosis_0_rows = data[data['diagnosis'] == 0].sample(n=n, random_state=random_seed)\n",
        "\n",
        "# Combine the selected rows\n",
        "data_selected = pd.concat([diagnosis_1_rows, diagnosis_0_rows])\n",
        "\n",
        "# Display the selected rows\n",
        "print(\"\\nSelected Rows:\")\n",
        "print(data_selected)\n",
        "print(data_selected['id_code'].iloc[0])"
      ],
      "metadata": {
        "colab": {
          "base_uri": "https://localhost:8080/"
        },
        "id": "GSPxDHGVP-Hh",
        "outputId": "0cc54329-ae37-45e7-88c7-ac1e5a62452d"
      },
      "execution_count": null,
      "outputs": [
        {
          "output_type": "stream",
          "name": "stdout",
          "text": [
            "\n",
            "Selected Rows:\n",
            "         id_code  diagnosis\n",
            "1063  Train_1064          1\n",
            "3692  Train_3693          1\n",
            "268    Train_269          1\n",
            "3254  Train_3255          1\n",
            "94      Train_95          1\n",
            "...          ...        ...\n",
            "2529  Train_2530          0\n",
            "4041  Train_4042          0\n",
            "1241  Train_1242          0\n",
            "1503  Train_1504          0\n",
            "1838  Train_1839          0\n",
            "\n",
            "[600 rows x 2 columns]\n",
            "Train_1064\n"
          ]
        }
      ]
    },
    {
      "cell_type": "code",
      "source": [
        "#convert images to matrix\n",
        "from PIL import Image\n",
        "\n",
        "def image_to_matrix(image_name):\n",
        "  all_matrices = []\n",
        "\n",
        "  for file_name in image_name.to_list():\n",
        "      # Create the full path to the image file\n",
        "      image_path = f'/content/extracted_images/images_color_300/{file_name}.jpg'\n",
        "\n",
        "      # Open the grayscale image\n",
        "      image = Image.open(image_path)\n",
        "\n",
        "      # Convert the image to a NumPy array\n",
        "      image_matrix = np.array(image)\n",
        "\n",
        "      # Append the matrix to the list\n",
        "      all_matrices.append(image_matrix)\n",
        "\n",
        "  # Convert the list of matrices to a NumPy array\n",
        "  diabetic_retinopathy_data = np.array(all_matrices)\n",
        "  return diabetic_retinopathy_data\n"
      ],
      "metadata": {
        "id": "aAlay4uSR0CD"
      },
      "execution_count": null,
      "outputs": []
    },
    {
      "cell_type": "code",
      "source": [
        "class_names = [\"No\", \"Yes\"]\n",
        "num_classes = len(class_names)\n",
        "\n",
        "\n",
        "batch_size = 128 # in each iteration, we consider 128 training examples at once\n",
        "num_epochs = 128 # (we iterate 200 times over the entire training set) change to 10\n",
        "\n",
        "'''\n",
        "kernel_size = 3 # we will use 3x3 kernels throughout\n",
        "pool_size = 2 # we will use 2x2 pooling throughout\n",
        "conv_depth_1 = 32 # we will initially have 32 kernels per conv. layer...\n",
        "conv_depth_2 = 64 # ...switching to 64 after the first pooling layer\n",
        "drop_prob_1 = 0.25 # dropout after pooling with probability 0.25\n",
        "drop_prob_2 = 0.5 # dropout in the FC layer with probability 0.5\n",
        "hidden_size = 512 # the FC layer will have 512 neurons\n",
        "'''"
      ],
      "metadata": {
        "colab": {
          "base_uri": "https://localhost:8080/",
          "height": 70
        },
        "id": "YbGYJVmMhOxU",
        "outputId": "5c94fadc-55a2-4dde-9ce3-d2e4723b3151"
      },
      "execution_count": null,
      "outputs": [
        {
          "output_type": "execute_result",
          "data": {
            "text/plain": [
              "'\\nkernel_size = 3 # we will use 3x3 kernels throughout\\npool_size = 2 # we will use 2x2 pooling throughout\\nconv_depth_1 = 32 # we will initially have 32 kernels per conv. layer...\\nconv_depth_2 = 64 # ...switching to 64 after the first pooling layer\\ndrop_prob_1 = 0.25 # dropout after pooling with probability 0.25\\ndrop_prob_2 = 0.5 # dropout in the FC layer with probability 0.5\\nhidden_size = 512 # the FC layer will have 512 neurons\\n'"
            ],
            "application/vnd.google.colaboratory.intrinsic+json": {
              "type": "string"
            }
          },
          "metadata": {},
          "execution_count": 6
        }
      ]
    },
    {
      "cell_type": "code",
      "source": [
        "#split data\n",
        "from sklearn.model_selection import train_test_split\n",
        "\n",
        "X = data_selected['id_code']\n",
        "Y = data_selected['diagnosis']\n",
        "\n",
        "X_train_raw, X_test_raw, y_train_raw, y_test_raw = train_test_split(X, Y, test_size=0.3, random_state=random_seed)\n",
        "\n",
        "X_train = image_to_matrix(X_train_raw)\n",
        "print(X_train.shape)\n",
        "X_test = image_to_matrix(X_test_raw)\n",
        "y_train = y_train_raw.to_numpy()\n",
        "y_test = y_test_raw.to_numpy()\n",
        "print(y_train[0])\n",
        "\n",
        "X_train = X_train.astype('float32')\n",
        "X_test = X_test.astype('float32')\n",
        "\n",
        "Y_train = tf.keras.utils.to_categorical(y_train, 2) # One-hot encode the labels\n",
        "Y_test = tf.keras.utils.to_categorical(y_test, 2) # One-hot encode the labels\n",
        "class_names[np.argmax (Y_train[0])]"
      ],
      "metadata": {
        "colab": {
          "base_uri": "https://localhost:8080/",
          "height": 70
        },
        "id": "o7IoQNokUzIR",
        "outputId": "dedef72f-7a9e-4b67-e46c-30b5df530776"
      },
      "execution_count": null,
      "outputs": [
        {
          "output_type": "stream",
          "name": "stdout",
          "text": [
            "(420, 300, 300, 3)\n",
            "1\n"
          ]
        },
        {
          "output_type": "execute_result",
          "data": {
            "text/plain": [
              "'Yes'"
            ],
            "application/vnd.google.colaboratory.intrinsic+json": {
              "type": "string"
            }
          },
          "metadata": {},
          "execution_count": 7
        }
      ]
    },
    {
      "cell_type": "code",
      "source": [
        "#create neural networks structure\n",
        "model = Sequential()\n",
        "\n",
        "#1st convolution layer\n",
        "model.add(Conv2D(16, (27, 27) #16 is number of filters and (27, 27) is the size of the filter.\n",
        "    , input_shape=(300, 300,3) , name='Conv1'))\n",
        "model.add(Activation('relu'))\n",
        "#model.add(MaxPooling2D(pool_size=(2,2)))\n",
        "\n",
        "model.add(Conv2D(32,(27, 27), name='Conv2')) # apply 32 filters sized of (27, 27) on 2nd convolution layer\n",
        "model.add(Activation('relu'))\n",
        "model.add(MaxPooling2D(pool_size=(2,2)))\n",
        "\n",
        "model.add(Conv2D(64,(27, 27), name='Conv3')) # apply 64 filters sized of (27, 27) on 3rd convolution layer\n",
        "model.add(Activation('relu'))\n",
        "#model.add(MaxPooling2D(pool_size=(2,2)))\n",
        "\n",
        "model.add(Conv2D(128,(27, 27), name='Conv4')) # apply 128 filters sized of (27, 27) on 4th convolution layer\n",
        "model.add(Activation('relu'))\n",
        "model.add(MaxPooling2D(pool_size=(2,2)))\n",
        "\n",
        "model.add(Flatten())\n",
        "\n",
        "# Fully connected layer. 1 hidden layer consisting of 512 nodes\n",
        "model.add(Dense(512, name='Dense1'))\n",
        "model.add(Activation('relu'))\n",
        "model.add(Dropout(0.3))\n",
        "model.add(Dense(num_classes, activation='softmax', name='Dense2'))\n",
        "print(model.summary())\n",
        "\n",
        "model.compile(loss='categorical_crossentropy', # using the cross-entropy loss function\n",
        "              optimizer=keras.optimizers.Adam(learning_rate=0.001), # using the Adam optimiser\n",
        "              metrics=['accuracy']) # reporting the accuracy"
      ],
      "metadata": {
        "colab": {
          "base_uri": "https://localhost:8080/"
        },
        "id": "dyoQRI5MjQ1Y",
        "outputId": "88734cf0-b8dc-45ff-a4a5-88e38c2cfedc"
      },
      "execution_count": null,
      "outputs": [
        {
          "output_type": "stream",
          "name": "stdout",
          "text": [
            "Model: \"sequential\"\n",
            "_________________________________________________________________\n",
            " Layer (type)                Output Shape              Param #   \n",
            "=================================================================\n",
            " Conv1 (Conv2D)              (None, 274, 274, 16)      35008     \n",
            "                                                                 \n",
            " activation (Activation)     (None, 274, 274, 16)      0         \n",
            "                                                                 \n",
            " Conv2 (Conv2D)              (None, 248, 248, 32)      373280    \n",
            "                                                                 \n",
            " activation_1 (Activation)   (None, 248, 248, 32)      0         \n",
            "                                                                 \n",
            " max_pooling2d (MaxPooling2  (None, 124, 124, 32)      0         \n",
            " D)                                                              \n",
            "                                                                 \n",
            " Conv3 (Conv2D)              (None, 98, 98, 64)        1493056   \n",
            "                                                                 \n",
            " activation_2 (Activation)   (None, 98, 98, 64)        0         \n",
            "                                                                 \n",
            " Conv4 (Conv2D)              (None, 72, 72, 128)       5972096   \n",
            "                                                                 \n",
            " activation_3 (Activation)   (None, 72, 72, 128)       0         \n",
            "                                                                 \n",
            " max_pooling2d_1 (MaxPoolin  (None, 36, 36, 128)       0         \n",
            " g2D)                                                            \n",
            "                                                                 \n",
            " flatten (Flatten)           (None, 165888)            0         \n",
            "                                                                 \n",
            " Dense1 (Dense)              (None, 512)               84935168  \n",
            "                                                                 \n",
            " activation_4 (Activation)   (None, 512)               0         \n",
            "                                                                 \n",
            " dropout (Dropout)           (None, 512)               0         \n",
            "                                                                 \n",
            " Dense2 (Dense)              (None, 2)                 1026      \n",
            "                                                                 \n",
            "=================================================================\n",
            "Total params: 92809634 (354.04 MB)\n",
            "Trainable params: 92809634 (354.04 MB)\n",
            "Non-trainable params: 0 (0.00 Byte)\n",
            "_________________________________________________________________\n",
            "None\n"
          ]
        }
      ]
    },
    {
      "cell_type": "code",
      "source": [
        "history = model.fit(X_train, Y_train, batch_size=batch_size, epochs=num_epochs,\n",
        "          verbose=1, validation_split=0.1) # ...holding out 10% of the data for validation"
      ],
      "metadata": {
        "colab": {
          "base_uri": "https://localhost:8080/"
        },
        "id": "3cwKMHOBkNPR",
        "outputId": "5a404590-8d09-4c42-f935-5c1d1f7b1677"
      },
      "execution_count": null,
      "outputs": [
        {
          "output_type": "stream",
          "name": "stdout",
          "text": [
            "Epoch 1/128\n",
            "3/3 [==============================] - 1325s 329s/step - loss: 233870.4531 - accuracy: 0.4683 - val_loss: 77604.8047 - val_accuracy: 0.5238\n",
            "Epoch 2/128\n",
            "3/3 [==============================] - 14s 5s/step - loss: 175417.2031 - accuracy: 0.5079 - val_loss: 2285.8770 - val_accuracy: 0.5238\n",
            "Epoch 3/128\n",
            "3/3 [==============================] - 14s 5s/step - loss: 19743.7559 - accuracy: 0.4709 - val_loss: 274.0078 - val_accuracy: 0.4762\n",
            "Epoch 4/128\n",
            "3/3 [==============================] - 14s 5s/step - loss: 854.6845 - accuracy: 0.4815 - val_loss: 60.6155 - val_accuracy: 0.4762\n",
            "Epoch 5/128\n",
            "3/3 [==============================] - 14s 5s/step - loss: 2128.0945 - accuracy: 0.4841 - val_loss: 821.4542 - val_accuracy: 0.4762\n",
            "Epoch 6/128\n",
            "3/3 [==============================] - 14s 5s/step - loss: 1033.0687 - accuracy: 0.5238 - val_loss: 32.0719 - val_accuracy: 0.5000\n",
            "Epoch 7/128\n",
            "3/3 [==============================] - 14s 5s/step - loss: 1035.2094 - accuracy: 0.4709 - val_loss: 605.1765 - val_accuracy: 0.5238\n",
            "Epoch 8/128\n",
            "3/3 [==============================] - 14s 5s/step - loss: 899.3710 - accuracy: 0.5132 - val_loss: 932.3835 - val_accuracy: 0.4762\n",
            "Epoch 9/128\n",
            "3/3 [==============================] - 14s 5s/step - loss: 828.6729 - accuracy: 0.4841 - val_loss: 241.2730 - val_accuracy: 0.5238\n",
            "Epoch 10/128\n",
            "3/3 [==============================] - 14s 5s/step - loss: 421.1396 - accuracy: 0.4735 - val_loss: 68.9158 - val_accuracy: 0.5238\n",
            "Epoch 11/128\n",
            "3/3 [==============================] - 14s 5s/step - loss: 165.6397 - accuracy: 0.5397 - val_loss: 64.2538 - val_accuracy: 0.5238\n",
            "Epoch 12/128\n",
            "3/3 [==============================] - 14s 5s/step - loss: 48.9854 - accuracy: 0.5608 - val_loss: 17.6730 - val_accuracy: 0.5238\n",
            "Epoch 13/128\n",
            "3/3 [==============================] - 14s 5s/step - loss: 18.7448 - accuracy: 0.4153 - val_loss: 1.2737 - val_accuracy: 0.3810\n",
            "Epoch 14/128\n",
            "3/3 [==============================] - 14s 5s/step - loss: 1.6598 - accuracy: 0.4497 - val_loss: 0.7061 - val_accuracy: 0.5714\n",
            "Epoch 15/128\n",
            "3/3 [==============================] - 14s 5s/step - loss: 0.7721 - accuracy: 0.5503 - val_loss: 0.6382 - val_accuracy: 0.7143\n",
            "Epoch 16/128\n",
            "3/3 [==============================] - 14s 5s/step - loss: 0.6528 - accuracy: 0.6561 - val_loss: 0.6403 - val_accuracy: 0.6190\n",
            "Epoch 17/128\n",
            "3/3 [==============================] - 14s 5s/step - loss: 0.5983 - accuracy: 0.6587 - val_loss: 0.6354 - val_accuracy: 0.6190\n",
            "Epoch 18/128\n",
            "3/3 [==============================] - 14s 5s/step - loss: 0.6075 - accuracy: 0.6878 - val_loss: 0.6019 - val_accuracy: 0.6429\n",
            "Epoch 19/128\n",
            "3/3 [==============================] - 14s 5s/step - loss: 0.5824 - accuracy: 0.7434 - val_loss: 0.5985 - val_accuracy: 0.6429\n",
            "Epoch 20/128\n",
            "3/3 [==============================] - 14s 5s/step - loss: 0.5333 - accuracy: 0.7460 - val_loss: 0.5944 - val_accuracy: 0.6667\n",
            "Epoch 21/128\n",
            "3/3 [==============================] - 14s 5s/step - loss: 0.5287 - accuracy: 0.7831 - val_loss: 0.5821 - val_accuracy: 0.6190\n",
            "Epoch 22/128\n",
            "3/3 [==============================] - 14s 5s/step - loss: 0.4818 - accuracy: 0.7884 - val_loss: 0.5028 - val_accuracy: 0.7143\n",
            "Epoch 23/128\n",
            "3/3 [==============================] - 14s 5s/step - loss: 0.4739 - accuracy: 0.7540 - val_loss: 0.4770 - val_accuracy: 0.7143\n",
            "Epoch 24/128\n",
            "3/3 [==============================] - 14s 5s/step - loss: 0.4167 - accuracy: 0.8069 - val_loss: 0.4797 - val_accuracy: 0.7381\n",
            "Epoch 25/128\n",
            "3/3 [==============================] - 14s 5s/step - loss: 0.3971 - accuracy: 0.8228 - val_loss: 0.4638 - val_accuracy: 0.7381\n",
            "Epoch 26/128\n",
            "3/3 [==============================] - 14s 5s/step - loss: 0.3790 - accuracy: 0.8201 - val_loss: 0.4758 - val_accuracy: 0.7381\n",
            "Epoch 27/128\n",
            "3/3 [==============================] - 14s 5s/step - loss: 0.3631 - accuracy: 0.8175 - val_loss: 0.4933 - val_accuracy: 0.7381\n",
            "Epoch 28/128\n",
            "3/3 [==============================] - 14s 5s/step - loss: 0.3718 - accuracy: 0.8413 - val_loss: 0.4793 - val_accuracy: 0.7381\n",
            "Epoch 29/128\n",
            "3/3 [==============================] - 14s 5s/step - loss: 0.3502 - accuracy: 0.8360 - val_loss: 0.4647 - val_accuracy: 0.6905\n",
            "Epoch 30/128\n",
            "3/3 [==============================] - 14s 5s/step - loss: 0.3496 - accuracy: 0.8333 - val_loss: 0.4550 - val_accuracy: 0.7381\n",
            "Epoch 31/128\n",
            "3/3 [==============================] - 14s 5s/step - loss: 0.3292 - accuracy: 0.8571 - val_loss: 0.4435 - val_accuracy: 0.7143\n",
            "Epoch 32/128\n",
            "3/3 [==============================] - 14s 5s/step - loss: 0.3009 - accuracy: 0.8677 - val_loss: 0.4384 - val_accuracy: 0.7619\n",
            "Epoch 33/128\n",
            "3/3 [==============================] - 14s 5s/step - loss: 0.2999 - accuracy: 0.8598 - val_loss: 0.4441 - val_accuracy: 0.7619\n",
            "Epoch 34/128\n",
            "3/3 [==============================] - 14s 5s/step - loss: 0.2763 - accuracy: 0.8598 - val_loss: 0.5090 - val_accuracy: 0.6667\n",
            "Epoch 35/128\n",
            "3/3 [==============================] - 14s 5s/step - loss: 0.2639 - accuracy: 0.8968 - val_loss: 0.4797 - val_accuracy: 0.7619\n",
            "Epoch 36/128\n",
            "3/3 [==============================] - 14s 5s/step - loss: 0.2684 - accuracy: 0.8836 - val_loss: 0.5495 - val_accuracy: 0.7143\n",
            "Epoch 37/128\n",
            "3/3 [==============================] - 14s 5s/step - loss: 0.3122 - accuracy: 0.8730 - val_loss: 0.4842 - val_accuracy: 0.7857\n",
            "Epoch 38/128\n",
            "3/3 [==============================] - 14s 5s/step - loss: 0.2733 - accuracy: 0.8783 - val_loss: 0.4587 - val_accuracy: 0.7381\n",
            "Epoch 39/128\n",
            "3/3 [==============================] - 14s 5s/step - loss: 0.2740 - accuracy: 0.8810 - val_loss: 0.4919 - val_accuracy: 0.7143\n",
            "Epoch 40/128\n",
            "3/3 [==============================] - 14s 5s/step - loss: 0.2756 - accuracy: 0.8624 - val_loss: 0.6172 - val_accuracy: 0.7619\n",
            "Epoch 41/128\n",
            "3/3 [==============================] - 14s 5s/step - loss: 0.2609 - accuracy: 0.8942 - val_loss: 0.4854 - val_accuracy: 0.7381\n",
            "Epoch 42/128\n",
            "3/3 [==============================] - 14s 5s/step - loss: 0.2459 - accuracy: 0.8783 - val_loss: 0.4477 - val_accuracy: 0.7619\n",
            "Epoch 43/128\n",
            "3/3 [==============================] - 14s 5s/step - loss: 0.2297 - accuracy: 0.9101 - val_loss: 0.4869 - val_accuracy: 0.7857\n",
            "Epoch 44/128\n",
            "3/3 [==============================] - 14s 5s/step - loss: 0.2366 - accuracy: 0.9101 - val_loss: 0.6066 - val_accuracy: 0.7381\n",
            "Epoch 45/128\n",
            "3/3 [==============================] - 14s 5s/step - loss: 0.2269 - accuracy: 0.9074 - val_loss: 0.5333 - val_accuracy: 0.7381\n",
            "Epoch 46/128\n",
            "3/3 [==============================] - 14s 5s/step - loss: 0.2421 - accuracy: 0.8783 - val_loss: 0.4926 - val_accuracy: 0.7143\n",
            "Epoch 47/128\n",
            "3/3 [==============================] - 14s 5s/step - loss: 0.2155 - accuracy: 0.9180 - val_loss: 0.5716 - val_accuracy: 0.7381\n",
            "Epoch 48/128\n",
            "3/3 [==============================] - 14s 5s/step - loss: 0.2098 - accuracy: 0.9074 - val_loss: 0.5106 - val_accuracy: 0.7143\n",
            "Epoch 49/128\n",
            "3/3 [==============================] - 14s 5s/step - loss: 0.2117 - accuracy: 0.9127 - val_loss: 0.4589 - val_accuracy: 0.7143\n",
            "Epoch 50/128\n",
            "3/3 [==============================] - 14s 5s/step - loss: 0.1929 - accuracy: 0.9233 - val_loss: 0.5393 - val_accuracy: 0.7143\n",
            "Epoch 51/128\n",
            "3/3 [==============================] - 14s 5s/step - loss: 0.1950 - accuracy: 0.9153 - val_loss: 0.5954 - val_accuracy: 0.7143\n",
            "Epoch 52/128\n",
            "3/3 [==============================] - 14s 5s/step - loss: 0.1916 - accuracy: 0.9153 - val_loss: 0.5812 - val_accuracy: 0.6905\n",
            "Epoch 53/128\n",
            "3/3 [==============================] - 14s 5s/step - loss: 0.1822 - accuracy: 0.9339 - val_loss: 0.6530 - val_accuracy: 0.7381\n",
            "Epoch 54/128\n",
            "3/3 [==============================] - 14s 5s/step - loss: 0.2022 - accuracy: 0.9021 - val_loss: 0.7898 - val_accuracy: 0.7143\n",
            "Epoch 55/128\n",
            "3/3 [==============================] - 14s 5s/step - loss: 0.1780 - accuracy: 0.9259 - val_loss: 0.6842 - val_accuracy: 0.7143\n",
            "Epoch 56/128\n",
            "3/3 [==============================] - 14s 5s/step - loss: 0.1984 - accuracy: 0.9048 - val_loss: 0.5856 - val_accuracy: 0.7381\n",
            "Epoch 57/128\n",
            "3/3 [==============================] - 14s 5s/step - loss: 0.1967 - accuracy: 0.9048 - val_loss: 0.7884 - val_accuracy: 0.7857\n",
            "Epoch 58/128\n",
            "3/3 [==============================] - 14s 5s/step - loss: 0.1969 - accuracy: 0.9127 - val_loss: 0.4970 - val_accuracy: 0.7619\n",
            "Epoch 59/128\n",
            "3/3 [==============================] - 14s 5s/step - loss: 0.1652 - accuracy: 0.9339 - val_loss: 0.4403 - val_accuracy: 0.7381\n",
            "Epoch 60/128\n",
            "3/3 [==============================] - 14s 5s/step - loss: 0.1737 - accuracy: 0.9365 - val_loss: 0.5564 - val_accuracy: 0.7143\n",
            "Epoch 61/128\n",
            "3/3 [==============================] - 14s 5s/step - loss: 0.1450 - accuracy: 0.9418 - val_loss: 0.6767 - val_accuracy: 0.7381\n",
            "Epoch 62/128\n",
            "3/3 [==============================] - 14s 5s/step - loss: 0.1388 - accuracy: 0.9444 - val_loss: 0.6688 - val_accuracy: 0.7143\n",
            "Epoch 63/128\n",
            "3/3 [==============================] - 14s 5s/step - loss: 0.1327 - accuracy: 0.9471 - val_loss: 0.7004 - val_accuracy: 0.7143\n",
            "Epoch 64/128\n",
            "3/3 [==============================] - 14s 5s/step - loss: 0.1320 - accuracy: 0.9471 - val_loss: 0.6481 - val_accuracy: 0.7143\n",
            "Epoch 65/128\n",
            "3/3 [==============================] - 14s 5s/step - loss: 0.1578 - accuracy: 0.9259 - val_loss: 0.6653 - val_accuracy: 0.7143\n",
            "Epoch 66/128\n",
            "3/3 [==============================] - 14s 5s/step - loss: 0.1580 - accuracy: 0.9206 - val_loss: 0.6259 - val_accuracy: 0.7381\n",
            "Epoch 67/128\n",
            "3/3 [==============================] - 14s 5s/step - loss: 0.1609 - accuracy: 0.9259 - val_loss: 0.6569 - val_accuracy: 0.7381\n",
            "Epoch 68/128\n",
            "3/3 [==============================] - 14s 5s/step - loss: 0.1754 - accuracy: 0.9365 - val_loss: 0.5118 - val_accuracy: 0.7619\n",
            "Epoch 69/128\n",
            "3/3 [==============================] - 14s 5s/step - loss: 0.1621 - accuracy: 0.9339 - val_loss: 0.5164 - val_accuracy: 0.7619\n",
            "Epoch 70/128\n",
            "3/3 [==============================] - 14s 5s/step - loss: 0.1298 - accuracy: 0.9524 - val_loss: 0.6188 - val_accuracy: 0.7619\n",
            "Epoch 71/128\n",
            "3/3 [==============================] - 14s 5s/step - loss: 0.1320 - accuracy: 0.9550 - val_loss: 0.7736 - val_accuracy: 0.7381\n",
            "Epoch 72/128\n",
            "3/3 [==============================] - 14s 5s/step - loss: 0.1253 - accuracy: 0.9365 - val_loss: 0.6293 - val_accuracy: 0.7619\n",
            "Epoch 73/128\n",
            "3/3 [==============================] - 14s 5s/step - loss: 0.1282 - accuracy: 0.9524 - val_loss: 0.5526 - val_accuracy: 0.7381\n",
            "Epoch 74/128\n",
            "3/3 [==============================] - 14s 5s/step - loss: 0.1037 - accuracy: 0.9656 - val_loss: 0.6160 - val_accuracy: 0.7857\n",
            "Epoch 75/128\n",
            "3/3 [==============================] - 14s 5s/step - loss: 0.1147 - accuracy: 0.9524 - val_loss: 0.7270 - val_accuracy: 0.7381\n",
            "Epoch 76/128\n",
            "3/3 [==============================] - 14s 5s/step - loss: 0.0929 - accuracy: 0.9683 - val_loss: 0.7808 - val_accuracy: 0.7381\n",
            "Epoch 77/128\n",
            "3/3 [==============================] - 14s 5s/step - loss: 0.0888 - accuracy: 0.9709 - val_loss: 0.7817 - val_accuracy: 0.7619\n",
            "Epoch 78/128\n",
            "3/3 [==============================] - 14s 5s/step - loss: 0.0878 - accuracy: 0.9709 - val_loss: 0.7060 - val_accuracy: 0.7619\n",
            "Epoch 79/128\n",
            "3/3 [==============================] - 14s 5s/step - loss: 0.0818 - accuracy: 0.9762 - val_loss: 0.7480 - val_accuracy: 0.7381\n",
            "Epoch 80/128\n",
            "3/3 [==============================] - 14s 5s/step - loss: 0.0772 - accuracy: 0.9762 - val_loss: 0.8639 - val_accuracy: 0.7857\n",
            "Epoch 81/128\n",
            "3/3 [==============================] - 14s 5s/step - loss: 0.0962 - accuracy: 0.9550 - val_loss: 0.9795 - val_accuracy: 0.7143\n",
            "Epoch 82/128\n",
            "3/3 [==============================] - 14s 5s/step - loss: 0.0826 - accuracy: 0.9709 - val_loss: 0.6013 - val_accuracy: 0.7619\n",
            "Epoch 83/128\n",
            "3/3 [==============================] - 14s 5s/step - loss: 0.0721 - accuracy: 0.9762 - val_loss: 0.6909 - val_accuracy: 0.7619\n",
            "Epoch 84/128\n",
            "3/3 [==============================] - 14s 5s/step - loss: 0.0835 - accuracy: 0.9683 - val_loss: 0.9195 - val_accuracy: 0.7857\n",
            "Epoch 85/128\n",
            "3/3 [==============================] - 14s 5s/step - loss: 0.0766 - accuracy: 0.9603 - val_loss: 0.9184 - val_accuracy: 0.7619\n",
            "Epoch 86/128\n",
            "3/3 [==============================] - 14s 5s/step - loss: 0.0760 - accuracy: 0.9709 - val_loss: 0.6876 - val_accuracy: 0.7381\n",
            "Epoch 87/128\n",
            "3/3 [==============================] - 14s 5s/step - loss: 0.0842 - accuracy: 0.9709 - val_loss: 0.7866 - val_accuracy: 0.7381\n",
            "Epoch 88/128\n",
            "3/3 [==============================] - 14s 5s/step - loss: 0.0793 - accuracy: 0.9683 - val_loss: 0.9481 - val_accuracy: 0.7143\n",
            "Epoch 89/128\n",
            "3/3 [==============================] - 14s 5s/step - loss: 0.0665 - accuracy: 0.9762 - val_loss: 1.0231 - val_accuracy: 0.7143\n",
            "Epoch 90/128\n",
            "3/3 [==============================] - 14s 5s/step - loss: 0.0742 - accuracy: 0.9762 - val_loss: 0.7949 - val_accuracy: 0.7619\n",
            "Epoch 91/128\n",
            "3/3 [==============================] - 14s 5s/step - loss: 0.0592 - accuracy: 0.9762 - val_loss: 0.6716 - val_accuracy: 0.7619\n",
            "Epoch 92/128\n",
            "3/3 [==============================] - 14s 5s/step - loss: 0.0574 - accuracy: 0.9841 - val_loss: 0.7354 - val_accuracy: 0.7381\n",
            "Epoch 93/128\n",
            "3/3 [==============================] - 14s 5s/step - loss: 0.0914 - accuracy: 0.9788 - val_loss: 0.7637 - val_accuracy: 0.7381\n",
            "Epoch 94/128\n",
            "3/3 [==============================] - 14s 5s/step - loss: 0.0521 - accuracy: 0.9815 - val_loss: 0.9272 - val_accuracy: 0.7381\n",
            "Epoch 95/128\n",
            "3/3 [==============================] - 14s 5s/step - loss: 0.0580 - accuracy: 0.9841 - val_loss: 1.0079 - val_accuracy: 0.7619\n",
            "Epoch 96/128\n",
            "3/3 [==============================] - 14s 5s/step - loss: 0.0809 - accuracy: 0.9815 - val_loss: 0.8785 - val_accuracy: 0.7619\n",
            "Epoch 97/128\n",
            "3/3 [==============================] - 14s 5s/step - loss: 0.0605 - accuracy: 0.9788 - val_loss: 0.9807 - val_accuracy: 0.7857\n",
            "Epoch 98/128\n",
            "3/3 [==============================] - 14s 5s/step - loss: 0.1109 - accuracy: 0.9630 - val_loss: 1.3754 - val_accuracy: 0.6905\n",
            "Epoch 99/128\n",
            "3/3 [==============================] - 14s 5s/step - loss: 0.1199 - accuracy: 0.9497 - val_loss: 1.0923 - val_accuracy: 0.7381\n",
            "Epoch 100/128\n",
            "3/3 [==============================] - 14s 5s/step - loss: 0.1320 - accuracy: 0.9550 - val_loss: 0.9843 - val_accuracy: 0.7381\n",
            "Epoch 101/128\n",
            "3/3 [==============================] - 14s 5s/step - loss: 0.1113 - accuracy: 0.9577 - val_loss: 0.9822 - val_accuracy: 0.7381\n",
            "Epoch 102/128\n",
            "3/3 [==============================] - 14s 5s/step - loss: 0.1263 - accuracy: 0.9497 - val_loss: 0.8905 - val_accuracy: 0.7619\n",
            "Epoch 103/128\n",
            "3/3 [==============================] - 14s 5s/step - loss: 0.0831 - accuracy: 0.9630 - val_loss: 0.9613 - val_accuracy: 0.7381\n",
            "Epoch 104/128\n",
            "3/3 [==============================] - 14s 5s/step - loss: 0.0705 - accuracy: 0.9683 - val_loss: 0.8855 - val_accuracy: 0.7381\n",
            "Epoch 105/128\n",
            "3/3 [==============================] - 14s 5s/step - loss: 0.1082 - accuracy: 0.9630 - val_loss: 0.6918 - val_accuracy: 0.7381\n",
            "Epoch 106/128\n",
            "3/3 [==============================] - 14s 5s/step - loss: 0.0905 - accuracy: 0.9656 - val_loss: 0.5529 - val_accuracy: 0.7381\n",
            "Epoch 107/128\n",
            "3/3 [==============================] - 14s 5s/step - loss: 0.0671 - accuracy: 0.9735 - val_loss: 0.5048 - val_accuracy: 0.7619\n",
            "Epoch 108/128\n",
            "3/3 [==============================] - 14s 5s/step - loss: 0.0947 - accuracy: 0.9709 - val_loss: 0.5791 - val_accuracy: 0.7619\n",
            "Epoch 109/128\n",
            "3/3 [==============================] - 14s 5s/step - loss: 0.0722 - accuracy: 0.9735 - val_loss: 0.5928 - val_accuracy: 0.7857\n",
            "Epoch 110/128\n",
            "3/3 [==============================] - 14s 5s/step - loss: 0.0833 - accuracy: 0.9630 - val_loss: 0.5611 - val_accuracy: 0.7381\n",
            "Epoch 111/128\n",
            "3/3 [==============================] - 14s 5s/step - loss: 0.0704 - accuracy: 0.9735 - val_loss: 0.5193 - val_accuracy: 0.7619\n",
            "Epoch 112/128\n",
            "3/3 [==============================] - 14s 5s/step - loss: 0.0560 - accuracy: 0.9815 - val_loss: 0.5109 - val_accuracy: 0.7381\n",
            "Epoch 113/128\n",
            "3/3 [==============================] - 14s 5s/step - loss: 0.0462 - accuracy: 0.9841 - val_loss: 0.5904 - val_accuracy: 0.7857\n",
            "Epoch 114/128\n",
            "3/3 [==============================] - 14s 5s/step - loss: 0.0528 - accuracy: 0.9815 - val_loss: 0.5848 - val_accuracy: 0.7381\n",
            "Epoch 115/128\n",
            "3/3 [==============================] - 14s 5s/step - loss: 0.0551 - accuracy: 0.9735 - val_loss: 0.5494 - val_accuracy: 0.7381\n",
            "Epoch 116/128\n",
            "3/3 [==============================] - 14s 5s/step - loss: 0.0622 - accuracy: 0.9762 - val_loss: 0.5739 - val_accuracy: 0.7857\n",
            "Epoch 117/128\n",
            "3/3 [==============================] - 14s 5s/step - loss: 0.0497 - accuracy: 0.9841 - val_loss: 0.6126 - val_accuracy: 0.7619\n",
            "Epoch 118/128\n",
            "3/3 [==============================] - 14s 5s/step - loss: 0.0423 - accuracy: 0.9868 - val_loss: 0.6467 - val_accuracy: 0.7143\n",
            "Epoch 119/128\n",
            "3/3 [==============================] - 14s 5s/step - loss: 0.0365 - accuracy: 0.9894 - val_loss: 0.6666 - val_accuracy: 0.7381\n",
            "Epoch 120/128\n",
            "3/3 [==============================] - 14s 5s/step - loss: 0.0403 - accuracy: 0.9841 - val_loss: 0.6514 - val_accuracy: 0.7381\n",
            "Epoch 121/128\n",
            "3/3 [==============================] - 14s 5s/step - loss: 0.0321 - accuracy: 0.9894 - val_loss: 0.5676 - val_accuracy: 0.7381\n",
            "Epoch 122/128\n",
            "3/3 [==============================] - 14s 5s/step - loss: 0.0334 - accuracy: 0.9894 - val_loss: 0.5413 - val_accuracy: 0.7381\n",
            "Epoch 123/128\n",
            "3/3 [==============================] - 14s 5s/step - loss: 0.0336 - accuracy: 0.9868 - val_loss: 0.6618 - val_accuracy: 0.7619\n",
            "Epoch 124/128\n",
            "3/3 [==============================] - 14s 5s/step - loss: 0.0389 - accuracy: 0.9868 - val_loss: 0.6901 - val_accuracy: 0.7619\n",
            "Epoch 125/128\n",
            "3/3 [==============================] - 14s 5s/step - loss: 0.0344 - accuracy: 0.9841 - val_loss: 0.6574 - val_accuracy: 0.7619\n",
            "Epoch 126/128\n",
            "3/3 [==============================] - 14s 5s/step - loss: 0.0355 - accuracy: 0.9894 - val_loss: 0.6383 - val_accuracy: 0.7619\n",
            "Epoch 127/128\n",
            "3/3 [==============================] - 14s 5s/step - loss: 0.0352 - accuracy: 0.9841 - val_loss: 0.7005 - val_accuracy: 0.7619\n",
            "Epoch 128/128\n",
            "3/3 [==============================] - 14s 5s/step - loss: 0.0332 - accuracy: 0.9841 - val_loss: 0.7229 - val_accuracy: 0.7619\n"
          ]
        }
      ]
    },
    {
      "cell_type": "code",
      "source": [
        "score = model.evaluate(X_test, Y_test, verbose=1)  # Evaluate the trained model on the test set!\n",
        "print(Y_test.shape)\n",
        "print('Test loss:', score[0])\n",
        "print('Test accuracy:', 100*score[1])"
      ],
      "metadata": {
        "colab": {
          "base_uri": "https://localhost:8080/"
        },
        "id": "eQtXafAIkmAv",
        "outputId": "c9552e92-6281-4c33-c382-f97a06f76258"
      },
      "execution_count": null,
      "outputs": [
        {
          "output_type": "stream",
          "name": "stdout",
          "text": [
            "6/6 [==============================] - 37s 3s/step - loss: 2.8863 - accuracy: 0.7833\n",
            "(180, 2)\n",
            "Test loss: 2.8862547874450684\n",
            "Test accuracy: 78.33333611488342\n"
          ]
        }
      ]
    },
    {
      "cell_type": "code",
      "source": [
        "err_hist = history.history\n",
        "pd.DataFrame(err_hist).plot(figsize=(8, 5))\n",
        "plt.grid(True)\n",
        "plt.gca().set_ylim(0, 2) # set the vertical range to [0-1]\n",
        "plt.show()"
      ],
      "metadata": {
        "colab": {
          "base_uri": "https://localhost:8080/",
          "height": 451
        },
        "id": "9QqVU_aPksHq",
        "outputId": "bf444246-b99e-422e-ecbf-4ce30054df31"
      },
      "execution_count": null,
      "outputs": [
        {
          "output_type": "display_data",
          "data": {
            "text/plain": [
              "<Figure size 800x500 with 1 Axes>"
            ],
            "image/png": "[encoded data removed]"
          },
          "metadata": {}
        }
      ]
    },
    {
      "cell_type": "code",
      "source": [
        "predictions = model.predict(X_test)\n",
        "\n",
        "cm = confusion_matrix(np.argmax(Y_test, axis=1), np.argmax(predictions,axis=1), labels=np.arange(num_classes))\n",
        "print(cm)\n",
        "clr = classification_report(np.argmax(Y_test, axis=1), np.argmax(predictions,axis=1), labels=np.arange(num_classes), target_names=class_names)\n",
        "print(clr)\n",
        "plt.figure(figsize=(4, 4))\n",
        "sns.heatmap(cm, annot=True, fmt='g', vmin=0, cmap='Blues', cbar=False)\n",
        "plt.xticks(ticks=np.arange(2) + 0.5, labels=class_names, rotation=90)\n",
        "plt.yticks(ticks=np.arange(2) + 0.5, labels=class_names, rotation=0)\n",
        "plt.xlabel(\"Predicted\")\n",
        "plt.ylabel(\"Actual\")\n",
        "plt.title(\"Confusion Matrix\")\n",
        "plt.savefig('Confusion Matrix55.png')\n",
        "plt.show()\n"
      ],
      "metadata": {
        "colab": {
          "base_uri": "https://localhost:8080/",
          "height": 626
        },
        "id": "SNVP3Spv8Cf8",
        "outputId": "551b4a55-7066-4942-f116-147ce8ff0ad7"
      },
      "execution_count": null,
      "outputs": [
        {
          "output_type": "stream",
          "name": "stdout",
          "text": [
            "6/6 [==============================] - 2s 295ms/step\n",
            "[[72 10]\n",
            " [29 69]]\n",
            "              precision    recall  f1-score   support\n",
            "\n",
            "          No       0.71      0.88      0.79        82\n",
            "         Yes       0.87      0.70      0.78        98\n",
            "\n",
            "    accuracy                           0.78       180\n",
            "   macro avg       0.79      0.79      0.78       180\n",
            "weighted avg       0.80      0.78      0.78       180\n",
            "\n"
          ]
        },
        {
          "output_type": "display_data",
          "data": {
            "text/plain": [
              "<Figure size 400x400 with 1 Axes>"
            ],
            "image/png": "[encoded data removed]"
          },
          "metadata": {}
        }
      ]
    },
    {
      "cell_type": "code",
      "source": [
        "\"\"\"\n",
        "#1st convolution layer\n",
        "model.add(Conv2D(32, (33, 33) #32 is number of filters and (3, 3) is the size of the filter.\n",
        "    , input_shape=(300, 300,1) , name='Conv1'))\n",
        "model.add(Activation('relu'))\n",
        "model.add(MaxPooling2D(pool_size=(2,2)))\n",
        "\n",
        "model.add(Conv2D(64,(33, 33), name='Conv2')) # apply 64 filters sized of (3x3) on 2nd convolution layer\n",
        "model.add(Activation('relu'))\n",
        "model.add(MaxPooling2D(pool_size=(2,2)))\n",
        "\n",
        "model.add(Conv2D(128,(33, 33), name='Conv3')) # apply 64 filters sized of (3x3) on 2nd convolution layer\n",
        "model.add(Activation('relu'))\n",
        "model.add(MaxPooling2D(pool_size=(2,2)))\n",
        "\"\"\""
      ],
      "metadata": {
        "colab": {
          "base_uri": "https://localhost:8080/",
          "height": 88
        },
        "id": "G_NS3a387G0v",
        "outputId": "01540988-6129-465b-a335-5e10f161db50"
      },
      "execution_count": null,
      "outputs": [
        {
          "output_type": "execute_result",
          "data": {
            "text/plain": [
              "\"\\n#1st convolution layer\\nmodel.add(Conv2D(32, (33, 33) #32 is number of filters and (3, 3) is the size of the filter.\\n    , input_shape=(300, 300,1) , name='Conv1'))\\nmodel.add(Activation('relu'))\\nmodel.add(MaxPooling2D(pool_size=(2,2)))\\n\\nmodel.add(Conv2D(64,(33, 33), name='Conv2')) # apply 64 filters sized of (3x3) on 2nd convolution layer\\nmodel.add(Activation('relu'))\\nmodel.add(MaxPooling2D(pool_size=(2,2)))\\n\\nmodel.add(Conv2D(128,(33, 33), name='Conv3')) # apply 64 filters sized of (3x3) on 2nd convolution layer\\nmodel.add(Activation('relu'))\\nmodel.add(MaxPooling2D(pool_size=(2,2)))\\n\""
            ],
            "application/vnd.google.colaboratory.intrinsic+json": {
              "type": "string"
            }
          },
          "metadata": {},
          "execution_count": 13
        }
      ]
    }
  ]
}